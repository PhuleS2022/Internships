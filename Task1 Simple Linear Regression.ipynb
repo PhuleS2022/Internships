{
 "cells": [
  {
   "cell_type": "markdown",
   "id": "efd0c0ed",
   "metadata": {},
   "source": [
    "**GRIP: The Sparks Foundation**\n",
    "\n",
    "**#GRIPOCT2022**\n",
    "\n",
    "\n",
    "**Task 1: Prediction using supervised machine learning**\n",
    "\n",
    "Simple linear regression with python scikit-learn\n",
    "\n",
    "**Problem Statement:** In this problem our task is to predict expected percent score of students based on no. of daily study hours.\n"
   ]
  },
  {
   "cell_type": "markdown",
   "id": "4dc4a79e",
   "metadata": {},
   "source": [
    "**Author: Phule Suraj Anandrao**"
   ]
  },
  {
   "cell_type": "markdown",
   "id": "2e7f35a4",
   "metadata": {},
   "source": [
    "**Import the relevant libraries**"
   ]
  },
  {
   "cell_type": "code",
   "execution_count": 47,
   "id": "4f91d8ef",
   "metadata": {},
   "outputs": [],
   "source": [
    "import numpy as np\n",
    "import pandas as pd\n",
    "import matplotlib.pyplot as plt\n",
    "import seaborn as sns\n",
    "sns.set()"
   ]
  },
  {
   "cell_type": "markdown",
   "id": "7b6e24bb",
   "metadata": {},
   "source": [
    "**Load the data from a .csv format using pandas library**"
   ]
  },
  {
   "cell_type": "code",
   "execution_count": 48,
   "id": "90fe0092",
   "metadata": {},
   "outputs": [
    {
     "name": "stdout",
     "output_type": "stream",
     "text": [
      "Data imported sucessfully\n"
     ]
    },
    {
     "data": {
      "text/html": [
       "<div>\n",
       "<style scoped>\n",
       "    .dataframe tbody tr th:only-of-type {\n",
       "        vertical-align: middle;\n",
       "    }\n",
       "\n",
       "    .dataframe tbody tr th {\n",
       "        vertical-align: top;\n",
       "    }\n",
       "\n",
       "    .dataframe thead th {\n",
       "        text-align: right;\n",
       "    }\n",
       "</style>\n",
       "<table border=\"1\" class=\"dataframe\">\n",
       "  <thead>\n",
       "    <tr style=\"text-align: right;\">\n",
       "      <th></th>\n",
       "      <th>Hours</th>\n",
       "      <th>Scores</th>\n",
       "    </tr>\n",
       "  </thead>\n",
       "  <tbody>\n",
       "    <tr>\n",
       "      <th>0</th>\n",
       "      <td>2.5</td>\n",
       "      <td>21</td>\n",
       "    </tr>\n",
       "    <tr>\n",
       "      <th>1</th>\n",
       "      <td>5.1</td>\n",
       "      <td>47</td>\n",
       "    </tr>\n",
       "    <tr>\n",
       "      <th>2</th>\n",
       "      <td>3.2</td>\n",
       "      <td>27</td>\n",
       "    </tr>\n",
       "    <tr>\n",
       "      <th>3</th>\n",
       "      <td>8.5</td>\n",
       "      <td>75</td>\n",
       "    </tr>\n",
       "    <tr>\n",
       "      <th>4</th>\n",
       "      <td>3.5</td>\n",
       "      <td>30</td>\n",
       "    </tr>\n",
       "  </tbody>\n",
       "</table>\n",
       "</div>"
      ],
      "text/plain": [
       "   Hours  Scores\n",
       "0    2.5      21\n",
       "1    5.1      47\n",
       "2    3.2      27\n",
       "3    8.5      75\n",
       "4    3.5      30"
      ]
     },
     "execution_count": 48,
     "metadata": {},
     "output_type": "execute_result"
    }
   ],
   "source": [
    "data=pd.read_csv('http://bit.ly/w-data') # data is stored in the given link\n",
    "print(\"Data imported sucessfully\")\n",
    "data.head()                              # Displays the first five rows of the dataframe"
   ]
  },
  {
   "cell_type": "code",
   "execution_count": 49,
   "id": "d2a94c65",
   "metadata": {},
   "outputs": [
    {
     "data": {
      "text/plain": [
       "False"
      ]
     },
     "execution_count": 49,
     "metadata": {},
     "output_type": "execute_result"
    }
   ],
   "source": [
    "# Checking the presence of missing values in the data\n",
    "data.isnull().values.any()"
   ]
  },
  {
   "cell_type": "raw",
   "id": "bdbaef1c",
   "metadata": {},
   "source": [
    "There is no missing values present in the data and there is no need to clean the data. So we can proceed for the furthur analysis."
   ]
  },
  {
   "cell_type": "markdown",
   "id": "4348ce68",
   "metadata": {},
   "source": [
    "**Define the dependent and the independent variables**"
   ]
  },
  {
   "cell_type": "code",
   "execution_count": 50,
   "id": "22f38dff",
   "metadata": {},
   "outputs": [],
   "source": [
    "# Following the regression equation, our dependent variable (y) is the Scores\n",
    "y = data ['Scores']\n",
    "# Similarly, our independent variable (x) is the Hours\n",
    "x = data ['Hours']\n"
   ]
  },
  {
   "cell_type": "markdown",
   "id": "f89b4a9f",
   "metadata": {},
   "source": [
    "**Explore the data**\n",
    "\n",
    "Lets plot the scatterplot to check the relation between the Scores and the Hours.\n"
   ]
  },
  {
   "cell_type": "code",
   "execution_count": 51,
   "id": "6a0a9eb6",
   "metadata": {},
   "outputs": [
    {
     "data": {
      "image/png": "[encoded data removed]",
      "text/plain": [
       "<Figure size 432x288 with 1 Axes>"
      ]
     },
     "metadata": {},
     "output_type": "display_data"
    }
   ],
   "source": [
    "data.plot(x='Hours', y='Scores', style='o')  \n",
    "plt.title('Hours vs Scores')  \n",
    "plt.xlabel('Hours Studied')  \n",
    "plt.ylabel('Percentage Score')  \n",
    "plt.show()"
   ]
  },
  {
   "cell_type": "markdown",
   "id": "f895f96c",
   "metadata": {},
   "source": [
    "From the Scatterplot, we can clearly see that there is a **positive linear relationship** between the number of daily study hours and percentage score."
   ]
  },
  {
   "cell_type": "markdown",
   "id": "8331b962",
   "metadata": {},
   "source": [
    "**Data Preparation**\n",
    "\n",
    "Prepare a data as a dependent and independent variables:\n",
    "\n",
    "x (hours studied) as a independent variable and \n",
    "\n",
    "y (Score) as a dependent variable\n",
    "\n"
   ]
  },
  {
   "cell_type": "code",
   "execution_count": 52,
   "id": "a4bf8dfe",
   "metadata": {},
   "outputs": [],
   "source": [
    "x = data.iloc[:, :-1].values    # iloc[] command is helps us to select a specific row or column from the data set. Gives data excluding last column observations.\n",
    "y = data.iloc[:, 1].values      # Gives observations of 2nd column."
   ]
  },
  {
   "cell_type": "markdown",
   "id": "531616d2",
   "metadata": {},
   "source": [
    "**Train_Test_Split**\n",
    "\n",
    "Now we will split the data into training and testing sets with **splitting rule 80-20**. Here we use train_test_split method using sklearn library."
   ]
  },
  {
   "cell_type": "code",
   "execution_count": 53,
   "id": "b36bc1e0",
   "metadata": {},
   "outputs": [],
   "source": [
    "from sklearn.model_selection import train_test_split  \n",
    "x_train, x_test, y_train, y_test = train_test_split(x, y,test_size=0.2, random_state=0) "
   ]
  },
  {
   "cell_type": "markdown",
   "id": "e4070fce",
   "metadata": {},
   "source": [
    "**Training the model**"
   ]
  },
  {
   "cell_type": "code",
   "execution_count": 55,
   "id": "86de0837",
   "metadata": {},
   "outputs": [
    {
     "name": "stdout",
     "output_type": "stream",
     "text": [
      "Training completed successfully.\n"
     ]
    }
   ],
   "source": [
    "from sklearn.linear_model import LinearRegression  \n",
    "regression = LinearRegression()  \n",
    "regression.fit(x_train,y_train) \n",
    "print(\"Training completed successfully.\")"
   ]
  },
  {
   "cell_type": "code",
   "execution_count": 56,
   "id": "ba814856",
   "metadata": {},
   "outputs": [
    {
     "data": {
      "text/plain": [
       "2.018160041434683"
      ]
     },
     "execution_count": 56,
     "metadata": {},
     "output_type": "execute_result"
    }
   ],
   "source": [
    "regression.intercept_         # Gives intercept of regression line"
   ]
  },
  {
   "cell_type": "code",
   "execution_count": 57,
   "id": "34c05045",
   "metadata": {},
   "outputs": [
    {
     "data": {
      "text/plain": [
       "array([9.91065648])"
      ]
     },
     "execution_count": 57,
     "metadata": {},
     "output_type": "execute_result"
    }
   ],
   "source": [
    "regression.coef_              # Gives slope of regression line"
   ]
  },
  {
   "cell_type": "code",
   "execution_count": 42,
   "id": "6890994c",
   "metadata": {},
   "outputs": [
    {
     "data": {
      "image/png": "[encoded data removed]",
      "text/plain": [
       "<Figure size 432x288 with 1 Axes>"
      ]
     },
     "metadata": {},
     "output_type": "display_data"
    }
   ],
   "source": [
    "# Replotting regression line\n",
    "\n",
    "regline= regression.intercept_ + regression.coef_*x\n",
    "plt.scatter(x, y)\n",
    "plt.plot(x, regline,color='red');\n",
    "plt.show()"
   ]
  },
  {
   "cell_type": "markdown",
   "id": "0b6c2409",
   "metadata": {},
   "source": [
    "**Making Predictions**\n",
    "\n",
    "Now we have trained our model, its time to make some predictions"
   ]
  },
  {
   "cell_type": "code",
   "execution_count": 58,
   "id": "f16655b1",
   "metadata": {},
   "outputs": [
    {
     "name": "stdout",
     "output_type": "stream",
     "text": [
      "[[1.5]\n",
      " [3.2]\n",
      " [7.4]\n",
      " [2.5]\n",
      " [5.9]]\n"
     ]
    }
   ],
   "source": [
    "print(x_test) # Testing data (In Hours)\n",
    "y_pred = regression.predict(x_test) # Predicting the scores"
   ]
  },
  {
   "cell_type": "code",
   "execution_count": 59,
   "id": "71220650",
   "metadata": {},
   "outputs": [
    {
     "data": {
      "text/html": [
       "<div>\n",
       "<style scoped>\n",
       "    .dataframe tbody tr th:only-of-type {\n",
       "        vertical-align: middle;\n",
       "    }\n",
       "\n",
       "    .dataframe tbody tr th {\n",
       "        vertical-align: top;\n",
       "    }\n",
       "\n",
       "    .dataframe thead th {\n",
       "        text-align: right;\n",
       "    }\n",
       "</style>\n",
       "<table border=\"1\" class=\"dataframe\">\n",
       "  <thead>\n",
       "    <tr style=\"text-align: right;\">\n",
       "      <th></th>\n",
       "      <th>Actual</th>\n",
       "      <th>Predicted</th>\n",
       "    </tr>\n",
       "  </thead>\n",
       "  <tbody>\n",
       "    <tr>\n",
       "      <th>0</th>\n",
       "      <td>20</td>\n",
       "      <td>16.884145</td>\n",
       "    </tr>\n",
       "    <tr>\n",
       "      <th>1</th>\n",
       "      <td>27</td>\n",
       "      <td>33.732261</td>\n",
       "    </tr>\n",
       "    <tr>\n",
       "      <th>2</th>\n",
       "      <td>69</td>\n",
       "      <td>75.357018</td>\n",
       "    </tr>\n",
       "    <tr>\n",
       "      <th>3</th>\n",
       "      <td>30</td>\n",
       "      <td>26.794801</td>\n",
       "    </tr>\n",
       "    <tr>\n",
       "      <th>4</th>\n",
       "      <td>62</td>\n",
       "      <td>60.491033</td>\n",
       "    </tr>\n",
       "  </tbody>\n",
       "</table>\n",
       "</div>"
      ],
      "text/plain": [
       "   Actual  Predicted\n",
       "0      20  16.884145\n",
       "1      27  33.732261\n",
       "2      69  75.357018\n",
       "3      30  26.794801\n",
       "4      62  60.491033"
      ]
     },
     "execution_count": 59,
     "metadata": {},
     "output_type": "execute_result"
    }
   ],
   "source": [
    "# Comparing Actual vs Predicted values\n",
    "df = pd.DataFrame({'Actual': y_test, 'Predicted': y_pred})  \n",
    "df "
   ]
  },
  {
   "cell_type": "code",
   "execution_count": 60,
   "id": "ce7a0293",
   "metadata": {},
   "outputs": [
    {
     "name": "stdout",
     "output_type": "stream",
     "text": [
      "[93.69173249]\n"
     ]
    }
   ],
   "source": [
    "# As our task, let predict the score when study hour is 9.25\n",
    "\n",
    "hours = 9.25\n",
    "pred = regression.predict([[hours]])\n",
    "print(pred)"
   ]
  },
  {
   "cell_type": "markdown",
   "id": "21122d86",
   "metadata": {},
   "source": [
    "**Which shows that if student will study for 9.25 hours then he will get percent score of 93.69 %**"
   ]
  },
  {
   "cell_type": "markdown",
   "id": "f6e31e93",
   "metadata": {},
   "source": [
    "**Model Evaluation**\n",
    " \n",
    "The most important task is to check the performance of the model.\n",
    "To check the performance of the model R-square, Mean Square Error and Mean Absolute Error"
   ]
  },
  {
   "cell_type": "code",
   "execution_count": 61,
   "id": "b3607c55",
   "metadata": {},
   "outputs": [],
   "source": [
    "from sklearn import metrics  "
   ]
  },
  {
   "cell_type": "code",
   "execution_count": 62,
   "id": "77bb53ec",
   "metadata": {},
   "outputs": [
    {
     "name": "stdout",
     "output_type": "stream",
     "text": [
      "R_square: 0.9454906892105356\n",
      "Adjusted_R_squre: 0.943120719176211\n",
      "Mean Absolute Error: 4.183859899002975\n",
      "MSE: 21.5987693072174\n"
     ]
    }
   ],
   "source": [
    "print('R_square:',regression.score(x_test,y_test))\n",
    "print('Adjusted_R_squre:', 1 - (1-regression.score(x_test,y_test))*(len(y)-1)/(len(y)-x.shape[1]-1))\n",
    "print('Mean Absolute Error:', metrics.mean_absolute_error(y_test, y_pred)) \n",
    "print('MSE:', metrics.mean_squared_error(y_test,y_pred))"
   ]
  },
  {
   "cell_type": "markdown",
   "id": "09e97d4d",
   "metadata": {},
   "source": [
    "Here R_square value is .9454 which shows that 94.54 % of variation in the outcome (Dependent) variable is explained by independent variable. That is our model gives 94.54 % accurate results."
   ]
  },
  {
   "cell_type": "markdown",
   "id": "7fb83e47",
   "metadata": {},
   "source": [
    "**Conclusions:**\n",
    "   \n",
    "   i)  Accuracy of our model is 94.54 %\n",
    "   \n",
    "   ii)  Model predicts that if a student studies for 9.25 hours per day then he/she will score 93.69 %."
   ]
  },
  {
   "cell_type": "markdown",
   "id": "e25558ac",
   "metadata": {},
   "source": [
    "**THANK YOU**"
   ]
  }
 ],
 "metadata": {
  "kernelspec": {
   "display_name": "Python 3 (ipykernel)",
   "language": "python",
   "name": "python3"
  },
  "language_info": {
   "codemirror_mode": {
    "name": "ipython",
    "version": 3
   },
   "file_extension": ".py",
   "mimetype": "text/x-python",
   "name": "python",
   "nbconvert_exporter": "python",
   "pygments_lexer": "ipython3",
   "version": "3.9.7"
  }
 },
 "nbformat": 4,
 "nbformat_minor": 5
}
